{
 "cells": [
  {
   "cell_type": "markdown",
   "metadata": {},
   "source": [
    "# SPRM Demo"
   ]
  },
  {
   "cell_type": "markdown",
   "metadata": {},
   "source": [
    "## Setup Environment\n",
    "\n",
    "\n",
    "Use setup.py to install all dependencies. \n",
    "\n",
    "Python => 3.8."
   ]
  },
  {
   "cell_type": "code",
   "execution_count": null,
   "metadata": {},
   "outputs": [],
   "source": [
    "!python ../setup.py install"
   ]
  },
  {
   "cell_type": "markdown",
   "metadata": {},
   "source": [
    "# Download Example Image and Mask\n",
    "\n",
    "You can use your own image and mask file but we provide these in case you want a quick look at SPRM features.\n",
    "\n",
    "Download the corresponding mask and image files and put them in their respective img/ and mask/ directories.\n",
    "\n",
    "https://drive.google.com/drive/folders/1denyZ1SFoWpWrPO9UbSdcF2DvHEv6ovN?usp=sharing"
   ]
  },
  {
   "cell_type": "markdown",
   "metadata": {},
   "source": [
    "## Run SPRM"
   ]
  },
  {
   "cell_type": "markdown",
   "metadata": {},
   "source": [
    "You'll be running a sample image and mask \n",
    "\n",
    "Est. Runtime: < 5 mins."
   ]
  },
  {
   "cell_type": "code",
   "execution_count": null,
   "metadata": {},
   "outputs": [],
   "source": [
    "!sh run_sprm.sh"
   ]
  },
  {
   "cell_type": "markdown",
   "metadata": {},
   "source": [
    "## Display SPRM Results"
   ]
  },
  {
   "cell_type": "code",
   "execution_count": null,
   "metadata": {},
   "outputs": [],
   "source": [
    "import os\n",
    "from PIL import Image\n",
    "import matplotlib.pyplot as plt\n",
    "from IPython.display import IFrame"
   ]
  },
  {
   "cell_type": "code",
   "execution_count": null,
   "metadata": {},
   "outputs": [],
   "source": [
    "# Path to the PDF file\n",
    "pdf_path = \"sprm_demo_outputs/image_demo.ome.tiff_AdjacencyGraph.pdf\"\n",
    "\n",
    "# Display the PDF\n",
    "IFrame(pdf_path, width=600, height=400)"
   ]
  },
  {
   "cell_type": "code",
   "execution_count": null,
   "metadata": {},
   "outputs": [],
   "source": [
    "# Path to the folder containing the PNG images\n",
    "folder_path = \"demo/sprm_demo_outputs\"\n",
    "\n",
    "# Get all files in the folder\n",
    "files = os.listdir(folder_path)\n",
    "\n",
    "# Filter PNG files\n",
    "png_files = [file for file in files if file.endswith('.png')]\n",
    "\n",
    "# Display the PNG images\n",
    "for png_file in png_files:\n",
    "    image_path = os.path.join(folder_path, png_file)\n",
    "    image = Image.open(image_path)\n",
    "    plt.figure()\n",
    "    plt.imshow(image)\n",
    "    plt.title(png_file)\n",
    "    plt.axis('off')\n",
    "    plt.show()"
   ]
  }
 ],
 "metadata": {
  "kernelspec": {
   "display_name": "hubmap_3.11",
   "language": "python",
   "name": "python3"
  },
  "language_info": {
   "codemirror_mode": {
    "name": "ipython",
    "version": 3
   },
   "file_extension": ".py",
   "mimetype": "text/x-python",
   "name": "python",
   "nbconvert_exporter": "python",
   "pygments_lexer": "ipython3",
   "version": "3.9.13"
  }
 },
 "nbformat": 4,
 "nbformat_minor": 2
}
